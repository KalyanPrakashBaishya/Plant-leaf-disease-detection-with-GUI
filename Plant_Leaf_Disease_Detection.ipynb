{
 "cells": [
  {
   "cell_type": "code",
   "execution_count": 1,
   "metadata": {},
   "outputs": [
    {
     "data": {
      "text/plain": [
       "'C:\\\\Users\\\\Administrator\\\\Downloads\\\\Python_work\\\\Edureka'"
      ]
     },
     "execution_count": 1,
     "metadata": {},
     "output_type": "execute_result"
    }
   ],
   "source": [
    "# Checking the working directory\n",
    "import os\n",
    "os.getcwd()"
   ]
  },
  {
   "cell_type": "raw",
   "metadata": {
    "id": "xSfTDBftPNzZ"
   },
   "source": [
    "# Directly extracting file from dropbox and unzipping it\n",
    "!wget https://www.dropbox.com/s/jxsy0sl05fnq1dr/archive.zip?dl=0\n",
    "!unzip /content/archive.zip?dl=0"
   ]
  },
  {
   "cell_type": "code",
   "execution_count": 34,
   "metadata": {
    "id": "xJlg6PX_PR_6"
   },
   "outputs": [],
   "source": [
    "# Importing necessary libraries for data processing\n",
    "import numpy as np\n",
    "import pandas as pd\n",
    "import matplotlib.pyplot as plt\n",
    "%matplotlib inline\n",
    "import os\n",
    "\n",
    "import keras\n",
    "from keras.preprocessing.image import  ImageDataGenerator, img_to_array , load_img\n",
    "from keras.applications.vgg19 import VGG19, preprocess_input , decode_predictions"
   ]
  },
  {
   "cell_type": "code",
   "execution_count": 3,
   "metadata": {
    "id": "56DPjs9VV1H9"
   },
   "outputs": [],
   "source": [
    "# Setting up data for augmentation\n",
    "train_datagen = ImageDataGenerator(zoom_range= 0.5, shear_range= 0.3, horizontal_flip= True,\n",
    "                                   preprocessing_function= preprocess_input )\n",
    "val_datagen = ImageDataGenerator(preprocessing_function= preprocess_input )"
   ]
  },
  {
   "cell_type": "code",
   "execution_count": 23,
   "metadata": {},
   "outputs": [],
   "source": [
    "# Setting the train and validation path\n",
    "train_data = \"\\\\Plant disease detection\\\\New Plant Diseases Dataset(Augmented)\\\\train\\\\\"\n",
    "valid_data = \"\\\\Plant disease detection\\\\New Plant Diseases Dataset(Augmented)\\\\valid\\\\\"\n",
    "# os.path.join(os.getcwd() + train_data)//"
   ]
  },
  {
   "cell_type": "code",
   "execution_count": 22,
   "metadata": {
    "colab": {
     "base_uri": "https://localhost:8080/"
    },
    "id": "lIGrstPvWXoV",
    "outputId": "abf9bd6a-92b6-4f2f-8de6-79ab16fe272f"
   },
   "outputs": [
    {
     "name": "stdout",
     "output_type": "stream",
     "text": [
      "Found 70295 images belonging to 38 classes.\n",
      "Found 17572 images belonging to 38 classes.\n"
     ]
    }
   ],
   "source": [
    "# Generating augmented images for train and validation\n",
    "train = train_datagen.flow_from_directory(directory= os.path.join(os.getcwd() + train_data),target_size= (256,256),batch_size=32)\n",
    "val = val_datagen.flow_from_directory(directory= os.path.join(os.getcwd() + valid_data), target_size= (256,256), batch_size=32)"
   ]
  },
  {
   "cell_type": "code",
   "execution_count": 35,
   "metadata": {
    "id": "Cx41WGthXTPF"
   },
   "outputs": [
    {
     "data": {
      "text/plain": [
       "<Figure size 360x360 with 0 Axes>"
      ]
     },
     "metadata": {},
     "output_type": "display_data"
    },
    {
     "data": {
      "text/plain": [
       "<Figure size 360x360 with 0 Axes>"
      ]
     },
     "metadata": {},
     "output_type": "display_data"
    },
    {
     "data": {
      "text/plain": [
       "<Figure size 360x360 with 0 Axes>"
      ]
     },
     "metadata": {},
     "output_type": "display_data"
    }
   ],
   "source": [
    "t_img , label = train.next()\n",
    "\n",
    "def plotImage(img_arr, label):\n",
    "    for im , l in zip(img_arr , label):\n",
    "        plt.figure(figsize=(5,5))\n",
    "        plt.show()\n",
    "    \n",
    "plotImage(t_img[:3], label[:3]);"
   ]
  },
  {
   "cell_type": "markdown",
   "metadata": {
    "id": "nUjVGoC9Yc6B"
   },
   "source": [
    "**Building our model**"
   ]
  },
  {
   "cell_type": "code",
   "execution_count": 27,
   "metadata": {
    "id": "kC57DfcRX7ZE"
   },
   "outputs": [],
   "source": [
    "# Importing libraries for model building\n",
    "from keras.layers import  Dense, Flatten \n",
    "from keras.models import Model\n",
    "from keras.applications.vgg19 import VGG19\n",
    "import keras"
   ]
  },
  {
   "cell_type": "code",
   "execution_count": 28,
   "metadata": {
    "colab": {
     "base_uri": "https://localhost:8080/"
    },
    "id": "6kuK0FigY0LM",
    "outputId": "51c312d3-6416-46c4-cb50-d00bd4b8aa27"
   },
   "outputs": [
    {
     "name": "stdout",
     "output_type": "stream",
     "text": [
      "Downloading data from https://storage.googleapis.com/tensorflow/keras-applications/vgg19/vgg19_weights_tf_dim_ordering_tf_kernels_notop.h5\n",
      "80142336/80134624 [==============================] - 85s 1us/step\n"
     ]
    }
   ],
   "source": [
    "# Instantiating the pre-trained VGG19 model\n",
    "base_model = VGG19(input_shape=(256,256,3), include_top= False)"
   ]
  },
  {
   "cell_type": "code",
   "execution_count": 36,
   "metadata": {
    "id": "-ODGF7DGY_XL"
   },
   "outputs": [],
   "source": [
    "# Making the trainable layers false\n",
    "for layer in base_model.layers:\n",
    "    layer.trainable = False "
   ]
  },
  {
   "cell_type": "code",
   "execution_count": 37,
   "metadata": {
    "colab": {
     "base_uri": "https://localhost:8080/"
    },
    "id": "ivYDXJ1vZSLq",
    "outputId": "3d991496-c60f-4cd8-bfbe-dac7d1aef27b"
   },
   "outputs": [
    {
     "name": "stdout",
     "output_type": "stream",
     "text": [
      "Model: \"vgg19\"\n",
      "_________________________________________________________________\n",
      "Layer (type)                 Output Shape              Param #   \n",
      "=================================================================\n",
      "input_1 (InputLayer)         [(None, 256, 256, 3)]     0         \n",
      "_________________________________________________________________\n",
      "block1_conv1 (Conv2D)        (None, 256, 256, 64)      1792      \n",
      "_________________________________________________________________\n",
      "block1_conv2 (Conv2D)        (None, 256, 256, 64)      36928     \n",
      "_________________________________________________________________\n",
      "block1_pool (MaxPooling2D)   (None, 128, 128, 64)      0         \n",
      "_________________________________________________________________\n",
      "block2_conv1 (Conv2D)        (None, 128, 128, 128)     73856     \n",
      "_________________________________________________________________\n",
      "block2_conv2 (Conv2D)        (None, 128, 128, 128)     147584    \n",
      "_________________________________________________________________\n",
      "block2_pool (MaxPooling2D)   (None, 64, 64, 128)       0         \n",
      "_________________________________________________________________\n",
      "block3_conv1 (Conv2D)        (None, 64, 64, 256)       295168    \n",
      "_________________________________________________________________\n",
      "block3_conv2 (Conv2D)        (None, 64, 64, 256)       590080    \n",
      "_________________________________________________________________\n",
      "block3_conv3 (Conv2D)        (None, 64, 64, 256)       590080    \n",
      "_________________________________________________________________\n",
      "block3_conv4 (Conv2D)        (None, 64, 64, 256)       590080    \n",
      "_________________________________________________________________\n",
      "block3_pool (MaxPooling2D)   (None, 32, 32, 256)       0         \n",
      "_________________________________________________________________\n",
      "block4_conv1 (Conv2D)        (None, 32, 32, 512)       1180160   \n",
      "_________________________________________________________________\n",
      "block4_conv2 (Conv2D)        (None, 32, 32, 512)       2359808   \n",
      "_________________________________________________________________\n",
      "block4_conv3 (Conv2D)        (None, 32, 32, 512)       2359808   \n",
      "_________________________________________________________________\n",
      "block4_conv4 (Conv2D)        (None, 32, 32, 512)       2359808   \n",
      "_________________________________________________________________\n",
      "block4_pool (MaxPooling2D)   (None, 16, 16, 512)       0         \n",
      "_________________________________________________________________\n",
      "block5_conv1 (Conv2D)        (None, 16, 16, 512)       2359808   \n",
      "_________________________________________________________________\n",
      "block5_conv2 (Conv2D)        (None, 16, 16, 512)       2359808   \n",
      "_________________________________________________________________\n",
      "block5_conv3 (Conv2D)        (None, 16, 16, 512)       2359808   \n",
      "_________________________________________________________________\n",
      "block5_conv4 (Conv2D)        (None, 16, 16, 512)       2359808   \n",
      "_________________________________________________________________\n",
      "block5_pool (MaxPooling2D)   (None, 8, 8, 512)         0         \n",
      "=================================================================\n",
      "Total params: 20,024,384\n",
      "Trainable params: 0\n",
      "Non-trainable params: 20,024,384\n",
      "_________________________________________________________________\n"
     ]
    }
   ],
   "source": [
    "# Understanding the model architecture\n",
    "base_model.summary()"
   ]
  },
  {
   "cell_type": "code",
   "execution_count": 38,
   "metadata": {
    "id": "67RculJSZKYh"
   },
   "outputs": [],
   "source": [
    "# Adding the necessary layers to our model\n",
    "X = Flatten()(base_model.output)\n",
    "X = Dense(units= 38, activation='softmax')(X)\n",
    "\n",
    "# Creating our model \n",
    "model = Model(base_model.input, X)\n",
    "# Checkong the architecture after freezing the trainable layers\n",
    "model.summary()"
   ]
  },
  {
   "cell_type": "code",
   "execution_count": 40,
   "metadata": {
    "id": "JdjOBGyfbJ5k"
   },
   "outputs": [],
   "source": [
    "# Compiling the CNN model\n",
    "model.compile(optimizer= 'adam' , loss= keras.losses.categorical_crossentropy , metrics= ['accuracy'])"
   ]
  },
  {
   "cell_type": "markdown",
   "metadata": {
    "id": "l7wFVua4aAMz"
   },
   "source": [
    "**Early Stopping and Model Check point**"
   ]
  },
  {
   "cell_type": "code",
   "execution_count": 41,
   "metadata": {
    "id": "7MuXP8Q4Zyev"
   },
   "outputs": [],
   "source": [
    "# Calling libraries for model checkpoint and early stopping\n",
    "from keras.callbacks import ModelCheckpoint, EarlyStopping \n",
    "\n",
    "# Early stopping \n",
    "es = EarlyStopping(monitor= 'val_accuracy', min_delta= 0.01, patience= 3, verbose=1)\n",
    "\n",
    "# Model check point \n",
    "mc = ModelCheckpoint(filepath=\"best_model.h5\", monitor= 'val_accuracy', min_delta= 0.01, patience= 3, verbose=1,\n",
    "                     save_best_only= True)\n",
    "cb = [es, mc]"
   ]
  },
  {
   "cell_type": "code",
   "execution_count": 42,
   "metadata": {
    "colab": {
     "base_uri": "https://localhost:8080/"
    },
    "id": "RKq40za-aN_5",
    "outputId": "4b9c2510-8e4f-4d74-dac6-57acdca59fd9"
   },
   "outputs": [
    {
     "name": "stdout",
     "output_type": "stream",
     "text": [
      "WARNING:tensorflow:From <ipython-input-42-725e2f74ee28>:1: Model.fit_generator (from tensorflow.python.keras.engine.training) is deprecated and will be removed in a future version.\n",
      "Instructions for updating:\n",
      "Please use Model.fit, which supports generators.\n",
      "Epoch 1/50\n",
      "16/16 [==============================] - ETA: 0s - loss: 25.9080 - accuracy: 0.1836 \n",
      "Epoch 00001: val_accuracy improved from -inf to 0.44531, saving model to best_model.h5\n",
      "16/16 [==============================] - 474s 30s/step - loss: 25.9080 - accuracy: 0.1836 - val_loss: 12.6572 - val_accuracy: 0.4453\n",
      "Epoch 2/50\n",
      "16/16 [==============================] - ETA: 0s - loss: 17.4401 - accuracy: 0.3965 \n",
      "Epoch 00002: val_accuracy improved from 0.44531 to 0.53125, saving model to best_model.h5\n",
      "16/16 [==============================] - 499s 31s/step - loss: 17.4401 - accuracy: 0.3965 - val_loss: 10.7168 - val_accuracy: 0.5312\n",
      "Epoch 3/50\n",
      "16/16 [==============================] - ETA: 0s - loss: 13.3621 - accuracy: 0.5352 \n",
      "Epoch 00003: val_accuracy improved from 0.53125 to 0.62109, saving model to best_model.h5\n",
      "16/16 [==============================] - 522s 33s/step - loss: 13.3621 - accuracy: 0.5352 - val_loss: 10.7543 - val_accuracy: 0.6211\n",
      "Epoch 4/50\n",
      "16/16 [==============================] - ETA: 0s - loss: 9.7791 - accuracy: 0.5996 \n",
      "Epoch 00004: val_accuracy improved from 0.62109 to 0.68945, saving model to best_model.h5\n",
      "16/16 [==============================] - 543s 34s/step - loss: 9.7791 - accuracy: 0.5996 - val_loss: 7.4561 - val_accuracy: 0.6895\n",
      "Epoch 5/50\n",
      "16/16 [==============================] - ETA: 0s - loss: 8.9267 - accuracy: 0.6328 \n",
      "Epoch 00005: val_accuracy improved from 0.68945 to 0.71094, saving model to best_model.h5\n",
      "16/16 [==============================] - 525s 33s/step - loss: 8.9267 - accuracy: 0.6328 - val_loss: 6.8495 - val_accuracy: 0.7109\n",
      "Epoch 6/50\n",
      "16/16 [==============================] - ETA: 0s - loss: 9.5588 - accuracy: 0.6328 \n",
      "Epoch 00006: val_accuracy did not improve from 0.71094\n",
      "16/16 [==============================] - 554s 35s/step - loss: 9.5588 - accuracy: 0.6328 - val_loss: 11.5588 - val_accuracy: 0.6641\n",
      "Epoch 7/50\n",
      "16/16 [==============================] - ETA: 0s - loss: 8.4360 - accuracy: 0.6836 \n",
      "Epoch 00007: val_accuracy improved from 0.71094 to 0.79688, saving model to best_model.h5\n",
      "16/16 [==============================] - 556s 35s/step - loss: 8.4360 - accuracy: 0.6836 - val_loss: 5.7899 - val_accuracy: 0.7969\n",
      "Epoch 8/50\n",
      "16/16 [==============================] - ETA: 0s - loss: 8.3084 - accuracy: 0.7012 \n",
      "Epoch 00008: val_accuracy did not improve from 0.79688\n",
      "16/16 [==============================] - 521s 33s/step - loss: 8.3084 - accuracy: 0.7012 - val_loss: 5.9771 - val_accuracy: 0.7441\n",
      "Epoch 9/50\n",
      "16/16 [==============================] - ETA: 0s - loss: 8.9363 - accuracy: 0.7090 \n",
      "Epoch 00009: val_accuracy did not improve from 0.79688\n",
      "16/16 [==============================] - 534s 33s/step - loss: 8.9363 - accuracy: 0.7090 - val_loss: 7.1377 - val_accuracy: 0.7754\n",
      "Epoch 10/50\n",
      "16/16 [==============================] - ETA: 0s - loss: 11.2218 - accuracy: 0.6719 \n",
      "Epoch 00010: val_accuracy did not improve from 0.79688\n",
      "16/16 [==============================] - 523s 33s/step - loss: 11.2218 - accuracy: 0.6719 - val_loss: 6.2604 - val_accuracy: 0.7754\n",
      "Epoch 00010: early stopping\n"
     ]
    }
   ],
   "source": [
    "%%time\n",
    "# Fitting the model on the trained data\n",
    "his = model.fit(train, steps_per_epoch= 16, epochs= 50, verbose= 1, callbacks= cb, validation_data= val, validation_steps= 16)\n",
    "# his = model.fit_generator(train, steps_per_epoch= 16, epochs= 50, verbose= 1, callbacks= cb, validation_data= val,\n",
    "#                           validation_steps= 16 )"
   ]
  },
  {
   "cell_type": "code",
   "execution_count": 43,
   "metadata": {
    "colab": {
     "base_uri": "https://localhost:8080/"
    },
    "id": "LMqCaOWqbG1n",
    "outputId": "432e5096-8d1e-4ead-d0f9-b5e2b7858cd5"
   },
   "outputs": [
    {
     "name": "stdout",
     "output_type": "stream",
     "text": [
      "dict_keys(['loss', 'accuracy', 'val_loss', 'val_accuracy'])\n"
     ]
    },
    {
     "data": {
      "image/png": "[encoded data removed]",
      "text/plain": [
       "<Figure size 432x288 with 1 Axes>"
      ]
     },
     "metadata": {
      "needs_background": "light"
     },
     "output_type": "display_data"
    }
   ],
   "source": [
    "# Plotting the validation accuracy\n",
    "h = his.history\n",
    "print(h.keys())\n",
    "\n",
    "plt.plot(h['accuracy'])\n",
    "plt.plot(h['val_accuracy'] , c = \"red\")\n",
    "plt.title(\"acc vs v-acc\")\n",
    "plt.show()"
   ]
  },
  {
   "cell_type": "code",
   "execution_count": 44,
   "metadata": {
    "colab": {
     "base_uri": "https://localhost:8080/",
     "height": 281
    },
    "id": "m8dMewN3eZpM",
    "outputId": "ff011662-f78b-445a-8688-e91fb98512cc"
   },
   "outputs": [
    {
     "data": {
      "image/png": "[encoded data removed]",
      "text/plain": [
       "<Figure size 432x288 with 1 Axes>"
      ]
     },
     "metadata": {
      "needs_background": "light"
     },
     "output_type": "display_data"
    }
   ],
   "source": [
    "# Plotting the validation loss\n",
    "plt.plot(h['loss'])\n",
    "plt.plot(h['val_loss'] , c = \"red\")\n",
    "plt.title(\"loss vs v-loss\")\n",
    "plt.show()"
   ]
  },
  {
   "cell_type": "code",
   "execution_count": 49,
   "metadata": {
    "id": "vLWJBw5beclk"
   },
   "outputs": [],
   "source": [
    "# Loading the best model\n",
    "from keras.models import load_model\n",
    "model = load_model(\"best_model.h5\")"
   ]
  },
  {
   "cell_type": "code",
   "execution_count": 50,
   "metadata": {
    "colab": {
     "base_uri": "https://localhost:8080/"
    },
    "id": "CPyXelfJej9W",
    "outputId": "6ced8771-3e3f-4027-d17b-3c069267fbd6"
   },
   "outputs": [
    {
     "name": "stdout",
     "output_type": "stream",
     "text": [
      "550/550 [==============================] - 42918s 78s/step - loss: 6.1198 - accuracy: 0.7775\n",
      "The accuracy of your model is = 77.74869203567505 %\n",
      "Wall time: 11h 55min 32s\n"
     ]
    }
   ],
   "source": [
    "%%time\n",
    "# Evaluating the model accuracy\n",
    "# acc = model.evaluate_generator(val)[1]\n",
    "acc = model.evaluate(val)[1]\n",
    "print(f\"The accuracy of your model is = {acc*100} %\")"
   ]
  },
  {
   "cell_type": "code",
   "execution_count": 56,
   "metadata": {
    "id": "U_4I_l1kgu62"
   },
   "outputs": [
    {
     "data": {
      "text/plain": [
       "{0: 'Apple___Apple_scab',\n",
       " 1: 'Apple___Black_rot',\n",
       " 2: 'Apple___Cedar_apple_rust',\n",
       " 3: 'Apple___healthy',\n",
       " 4: 'Blueberry___healthy',\n",
       " 5: 'Cherry_(including_sour)___Powdery_mildew',\n",
       " 6: 'Cherry_(including_sour)___healthy',\n",
       " 7: 'Corn_(maize)___Cercospora_leaf_spot Gray_leaf_spot',\n",
       " 8: 'Corn_(maize)___Common_rust_',\n",
       " 9: 'Corn_(maize)___Northern_Leaf_Blight',\n",
       " 10: 'Corn_(maize)___healthy',\n",
       " 11: 'Grape___Black_rot',\n",
       " 12: 'Grape___Esca_(Black_Measles)',\n",
       " 13: 'Grape___Leaf_blight_(Isariopsis_Leaf_Spot)',\n",
       " 14: 'Grape___healthy',\n",
       " 15: 'Orange___Haunglongbing_(Citrus_greening)',\n",
       " 16: 'Peach___Bacterial_spot',\n",
       " 17: 'Peach___healthy',\n",
       " 18: 'Pepper,_bell___Bacterial_spot',\n",
       " 19: 'Pepper,_bell___healthy',\n",
       " 20: 'Potato___Early_blight',\n",
       " 21: 'Potato___Late_blight',\n",
       " 22: 'Potato___healthy',\n",
       " 23: 'Raspberry___healthy',\n",
       " 24: 'Soybean___healthy',\n",
       " 25: 'Squash___Powdery_mildew',\n",
       " 26: 'Strawberry___Leaf_scorch',\n",
       " 27: 'Strawberry___healthy',\n",
       " 28: 'Tomato___Bacterial_spot',\n",
       " 29: 'Tomato___Early_blight',\n",
       " 30: 'Tomato___Late_blight',\n",
       " 31: 'Tomato___Leaf_Mold',\n",
       " 32: 'Tomato___Septoria_leaf_spot',\n",
       " 33: 'Tomato___Spider_mites Two-spotted_spider_mite',\n",
       " 34: 'Tomato___Target_Spot',\n",
       " 35: 'Tomato___Tomato_Yellow_Leaf_Curl_Virus',\n",
       " 36: 'Tomato___Tomato_mosaic_virus',\n",
       " 37: 'Tomato___healthy'}"
      ]
     },
     "execution_count": 56,
     "metadata": {},
     "output_type": "execute_result"
    }
   ],
   "source": [
    "ref = dict(zip(list(train.class_indices.values()) , list(train.class_indices.keys())))\n",
    "ref"
   ]
  },
  {
   "cell_type": "code",
   "execution_count": 52,
   "metadata": {
    "id": "yQSnKDSfe42a"
   },
   "outputs": [],
   "source": [
    "def prediction(path):\n",
    "    img = load_img(path, target_size= (256,256))\n",
    "    i = img_to_array(img)\n",
    "    im = preprocess_input(i)\n",
    "    img = np.expand_dims(im , axis= 0)\n",
    "    pred = np.argmax(model.predict(img))\n",
    "    print(f\" the image belongs to { ref[pred] } \")"
   ]
  },
  {
   "cell_type": "code",
   "execution_count": 54,
   "metadata": {
    "colab": {
     "base_uri": "https://localhost:8080/"
    },
    "id": "dBjBzrIxf9dL",
    "outputId": "97d249ab-4e5d-4ce9-e83c-2efd41349a14"
   },
   "outputs": [
    {
     "name": "stdout",
     "output_type": "stream",
     "text": [
      " the image belongs to Tomato___Tomato_Yellow_Leaf_Curl_Virus \n"
     ]
    }
   ],
   "source": [
    "path = \"Plant disease detection/test/TomatoYellowCurlVirus4.JPG\"\n",
    "prediction(path)"
   ]
  },
  {
   "cell_type": "code",
   "execution_count": null,
   "metadata": {
    "id": "NacWpl4ugp7d"
   },
   "outputs": [],
   "source": []
  }
 ],
 "metadata": {
  "accelerator": "GPU",
  "colab": {
   "name": "Plant Leaf DEsease Detection ",
   "provenance": []
  },
  "kernelspec": {
   "display_name": "Python 3",
   "language": "python",
   "name": "python3"
  }
 },
 "nbformat": 4,
 "nbformat_minor": 1
}
